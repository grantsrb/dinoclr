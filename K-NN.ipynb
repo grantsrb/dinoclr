{
 "cells": [
  {
   "cell_type": "code",
   "execution_count": 1,
   "metadata": {},
   "outputs": [
    {
     "name": "stderr",
     "output_type": "stream",
     "text": [
      "/home/grantsrb/anaconda3/envs/dino/lib/python3.9/site-packages/tqdm/auto.py:22: TqdmWarning: IProgress not found. Please update jupyter and ipywidgets. See https://ipywidgets.readthedocs.io/en/stable/user_install.html\n",
      "  from .autonotebook import tqdm as notebook_tqdm\n"
     ]
    }
   ],
   "source": [
    "import torch\n",
    "import torchvision\n",
    "import torchvision.transforms as transforms\n",
    "import numpy as np\n",
    "import matplotlib.pyplot as plt\n",
    "import seaborn as sns\n",
    "import pandas as pd\n",
    "\n",
    "import models\n",
    "import utils\n",
    "from vision_transformer import DINOHead\n",
    "import vision_transformer as vits\n",
    "import math\n",
    "from tqdm import tqdm\n",
    "\n",
    "font = {'family' : 'normal',\n",
    "        'weight' : 'bold',\n",
    "        'size'   : 22}\n",
    "\n",
    "import matplotlib\n",
    "matplotlib.rc('font', **font)"
   ]
  },
  {
   "cell_type": "code",
   "execution_count": 2,
   "metadata": {},
   "outputs": [
    {
     "name": "stdout",
     "output_type": "stream",
     "text": [
      "Files already downloaded and verified\n",
      "Files already downloaded and verified\n"
     ]
    }
   ],
   "source": [
    "transform = transforms.Compose([\n",
    "    transforms.ToTensor(),\n",
    "    #transforms.Normalize((0.5, 0.5, 0.5), (0.5, 0.5, 0.5))\n",
    "    transforms.Normalize((0.485, 0.456, 0.406), (0.229, 0.224, 0.225))\n",
    "])\n",
    "\n",
    "def unnormalize(X):\n",
    "    \"\"\"\n",
    "    X: torch tensor or ndarray (..., 3, H, W)\n",
    "    \"\"\"\n",
    "    if isinstance(X, type(np.ones((1,)))):\n",
    "        means = np.asarray([0.485, 0.456, 0.406])\n",
    "        stds =  np.asarray([0.229, 0.224, 0.225])\n",
    "    else:\n",
    "        means = torch.FloatTensor([0.485, 0.456, 0.406])\n",
    "        stds = torch.FloatTensor([0.229, 0.224, 0.225])\n",
    "    return X*stds[:,None,None] + means[:,None,None]\n",
    "\n",
    "batch_size = 4\n",
    "\n",
    "trainset = torchvision.datasets.CIFAR10(root='./data', train=True,\n",
    "                                        download=True, transform=transform)\n",
    "trainloader = torch.utils.data.DataLoader(trainset, batch_size=batch_size,\n",
    "                                          shuffle=False, num_workers=2)\n",
    "X_train = torch.FloatTensor(trainset.data).permute(0,3,1,2)\n",
    "y_train = torch.LongTensor(trainset.targets)\n",
    "\n",
    "testset = torchvision.datasets.CIFAR10(root='./data', train=False,\n",
    "                                       download=True, transform=transform)\n",
    "testloader = torch.utils.data.DataLoader(testset, batch_size=batch_size,\n",
    "                                         shuffle=False, num_workers=2)\n",
    "X_test = torch.FloatTensor(testset.data).permute(0,3,1,2)\n",
    "y_test = torch.LongTensor( testset.targets)\n",
    "\n",
    "classes = ('plane', 'car', 'bird', 'cat',\n",
    "           'deer', 'dog', 'frog', 'horse', 'ship', 'truck')"
   ]
  },
  {
   "cell_type": "markdown",
   "metadata": {},
   "source": [
    "## Parameter Count"
   ]
  },
  {
   "cell_type": "code",
   "execution_count": 37,
   "metadata": {},
   "outputs": [
    {
     "name": "stdout",
     "output_type": "stream",
     "text": [
      "Param Count (No Multicrop Wrapper): 6296192\n",
      "Param Count (total): 28124032\n"
     ]
    }
   ],
   "source": [
    "#checkpt_path = \"/data2/pdp/grantsrb/dinoclr_saves/chans8-16-32-48AvgOverDim/checkpoint.pth\"\n",
    "#checkpt_path = \"/data2/pdp/grantsrb/dinoclr_saves/chans8-16-32-48RecurrentAttention/checkpoint.pth\"\n",
    "#checkpt_path = \"/mnt/fs1/grantsrb/dinoclr_saves/chans8-16-32-48AttentionalJoin/checkpoint.pth\"\n",
    "checkpt_path = \"/mnt/fs1/grantsrb/dinoclr_saves/chans8-16-32-48DenseJoin/checkpoint.pth\"\n",
    "# Model1\n",
    "#checkpt_path = \"/mnt/fs1/grantsrb/dinoclr_saves/chans12-16-24-36-48ksizes2ncnns6aggdim128share/checkpoint.pth\"\n",
    "#checkpt_path = \"/mnt/fs1/grantsrb/dinoclr_saves/chans8-16-24-48ksizes2ncnns8attnjoin/checkpoint.pth\"\n",
    "#checkpt_path = \"/mnt/fs1/grantsrb/dinoclr_saves/chans8-16-24-48ksizes2ncnns104/checkpoint.pth\"\n",
    "# ViT Baseline\n",
    "#checkpt_path = \"/mnt/fs1/grantsrb/dinoclr_saves/vit_tiny_baseline/checkpoint.pth\"\n",
    "# OG Model\n",
    "#checkpt_path = \"/mnt/fs1/grantsrb/dinoclr_saves/avgpoolchans8-16-24-48-128ksizes2/checkpoint.pth\"\n",
    "checkpt = torch.load(checkpt_path, map_location='cpu')\n",
    "args = checkpt[\"args\"]\n",
    "if args.arch in vits.__dict__.keys():                                  \n",
    "    hyps = {                                                           \n",
    "        \"patch_size\": args.patch_size,                                 \n",
    "        \"img_size\": [32]\n",
    "    }                                                                  \n",
    "    teacher = vits.__dict__[args.arch]( **hyps )                       \n",
    "    embed_dim = teacher.embed_dim\n",
    "elif args.arch in models.__dict__.keys():                              \n",
    "    try:\n",
    "        hyps = checkpt[\"hyps\"]\n",
    "    except:\n",
    "        hyps = {\n",
    "            \"n_cnns\": 8, \"inpt_shape\": (3,32,32), \"chans\": [8,16,24,48,96],\n",
    "            \"ksizes\": 2, \"strides\": 1, \"paddings\": 0, \"lnorm\": True, \"out_dim\": 65536,\n",
    "        }                                                                  \n",
    "    teacher = models.__dict__[args.arch](**hyps)                       \n",
    "    embed_dim = hyps[\"agg_dim\"] if \"out_dim\" not in hyps else hyps[\"out_dim\"] \n",
    "model = utils.MultiCropWrapper(                                      \n",
    "    teacher,                                                           \n",
    "    DINOHead(embed_dim, args.out_dim, False),            \n",
    ")\n",
    "count = 0\n",
    "for p in teacher.parameters():\n",
    "    count += math.prod(p.shape)\n",
    "print(\"Param Count (No Multicrop Wrapper):\", count)\n",
    "count = 0\n",
    "for p in model.parameters():\n",
    "    count += math.prod(p.shape)\n",
    "print(\"Param Count (total):\", count)"
   ]
  },
  {
   "cell_type": "code",
   "execution_count": 38,
   "metadata": {},
   "outputs": [],
   "source": [
    "# TreeCNN: 206845440"
   ]
  },
  {
   "cell_type": "code",
   "execution_count": 39,
   "metadata": {},
   "outputs": [],
   "source": [
    "#alexnet = torchvision.models.alexnet()"
   ]
  },
  {
   "cell_type": "code",
   "execution_count": 40,
   "metadata": {},
   "outputs": [],
   "source": [
    "#count = 0\n",
    "#for p in alexnet.parameters():\n",
    "#    count += math.prod(p.shape)\n",
    "#print(\"Param Count:\", count)"
   ]
  },
  {
   "cell_type": "markdown",
   "metadata": {},
   "source": [
    "## KNN"
   ]
  },
  {
   "cell_type": "code",
   "execution_count": 41,
   "metadata": {},
   "outputs": [],
   "source": [
    "def get_features(model, train_data, step_size=300):\n",
    "    model.eval()\n",
    "    feats = []\n",
    "    with torch.no_grad():\n",
    "        for i in tqdm(range(0, len(train_data), step_size)):\n",
    "            f = model(train_data[i:i+step_size].cuda())\n",
    "            feats.append(f.detach().cpu().data)\n",
    "    return torch.cat(feats, dim=0)"
   ]
  },
  {
   "cell_type": "code",
   "execution_count": 42,
   "metadata": {
    "id": "Z_aRELyuQcxn"
   },
   "outputs": [],
   "source": [
    "def compute_distances_no_loops(Xtrain, X):\n",
    "    \"\"\"\n",
    "    Compute the distance between each test point in X and each training point\n",
    "    in self.X_train using no explicit loops.\n",
    "\n",
    "    Input / Output: Same as compute_distances_two_loops\n",
    "    \"\"\"\n",
    "    if type(X) == type(torch.zeros(1)):\n",
    "        zeros = torch.zeros\n",
    "        matmul = torch.matmul\n",
    "    else:\n",
    "        zeros = np.zeros\n",
    "        matmul = np.matmul\n",
    "    num_test = X.shape[0]\n",
    "    num_train = Xtrain.shape[0]\n",
    "    dists = zeros((num_test, num_train))\n",
    "\n",
    "    X_sq = (X**2).sum(1)\n",
    "    Train_sq = (Xtrain**2).sum(1)\n",
    "    dists = X_sq[:,None] -2*matmul(X, Xtrain.T) + Train_sq[None]\n",
    "    dists = dists**0.5\n",
    "\n",
    "    return dists"
   ]
  },
  {
   "cell_type": "code",
   "execution_count": 43,
   "metadata": {
    "id": "pIUlHDI_QsmQ"
   },
   "outputs": [],
   "source": [
    "def predict_labels(ytrain, dists, k=1):\n",
    "    \"\"\"\n",
    "    Given a matrix of distances between test points and training points,\n",
    "    predict a label for each test point.\n",
    "\n",
    "    Inputs:\n",
    "    - dists: A numpy array of shape (num_test, num_train) where dists[i, j]\n",
    "      gives the distance betwen the ith test point and the jth training point.\n",
    "\n",
    "    Returns:\n",
    "    - y: A numpy array of shape (num_test,) containing predicted labels for the\n",
    "      test data, where y[i] is the predicted label for the test point X[i].\n",
    "    \"\"\"\n",
    "    num_test = dists.shape[0]\n",
    "    y_pred = np.zeros(num_test)\n",
    "    for i in range(num_test):\n",
    "        closest_y = []\n",
    "        closest_y = ytrain[np.argsort(dists[i,:])[:k]]\n",
    "        y_pred[i] = np.argmax(np.bincount(closest_y))\n",
    "\n",
    "    return y_pred"
   ]
  },
  {
   "cell_type": "code",
   "execution_count": 44,
   "metadata": {},
   "outputs": [
    {
     "name": "stdout",
     "output_type": "stream",
     "text": [
      "Getting train feats\n"
     ]
    },
    {
     "name": "stderr",
     "output_type": "stream",
     "text": [
      "100%|███████████████████████████████████████████████████████████████████████████████████████████████████████████████████████████████████████████████████████████████████████████████| 50/50 [01:06<00:00,  1.34s/it]\n"
     ]
    },
    {
     "name": "stdout",
     "output_type": "stream",
     "text": [
      "Getting test feats\n"
     ]
    },
    {
     "name": "stderr",
     "output_type": "stream",
     "text": [
      "100%|███████████████████████████████████████████████████████████████████████████████████████████████████████████████████████████████████████████████████████████████████████████████| 10/10 [00:13<00:00,  1.33s/it]\n"
     ]
    },
    {
     "name": "stdout",
     "output_type": "stream",
     "text": [
      "Computing distances\n"
     ]
    }
   ],
   "source": [
    "model.cuda()\n",
    "\n",
    "print(\"Getting train feats\")\n",
    "train_feats = get_features(model, X_train, step_size=1000)\n",
    "print(\"Getting test feats\")\n",
    "test_feats = get_features(model, X_test, step_size=1000)\n",
    "with torch.no_grad():\n",
    "    print(\"Computing distances\")\n",
    "    dists = compute_distances_no_loops(train_feats, test_feats).cpu().data.numpy()"
   ]
  },
  {
   "cell_type": "code",
   "execution_count": 45,
   "metadata": {},
   "outputs": [
    {
     "name": "stderr",
     "output_type": "stream",
     "text": [
      "100%|█████████████████████████████████████████████████████████████████████████████████████████████████████████████████████████████████████████████████████████████████████████████████| 6/6 [06:43<00:00, 67.19s/it]\n"
     ]
    }
   ],
   "source": [
    "accs = []\n",
    "for k in tqdm(range(4,10)):\n",
    "    preds = predict_labels(y_train, dists, k=k)\n",
    "    accs.append((preds == y_test.numpy()).mean())"
   ]
  },
  {
   "cell_type": "code",
   "execution_count": 46,
   "metadata": {},
   "outputs": [
    {
     "data": {
      "image/png": "[encoded data removed]",
      "text/plain": [
       "<Figure size 432x288 with 1 Axes>"
      ]
     },
     "metadata": {
      "needs_background": "light"
     },
     "output_type": "display_data"
    }
   ],
   "source": [
    "plt.plot(np.arange(1,len(accs)+1), accs)\n",
    "plt.xlabel(\"k\")\n",
    "plt.ylabel(\"Acc\")\n",
    "plt.show()"
   ]
  },
  {
   "cell_type": "code",
   "execution_count": null,
   "metadata": {},
   "outputs": [],
   "source": [
    "# Model1: 0.4649\n",
    "# ViT Baseline: 0.2882\n",
    "# Model1: 0.502"
   ]
  },
  {
   "cell_type": "code",
   "execution_count": 34,
   "metadata": {},
   "outputs": [
    {
     "data": {
      "text/html": [
       "<div>\n",
       "<style scoped>\n",
       "    .dataframe tbody tr th:only-of-type {\n",
       "        vertical-align: middle;\n",
       "    }\n",
       "\n",
       "    .dataframe tbody tr th {\n",
       "        vertical-align: top;\n",
       "    }\n",
       "\n",
       "    .dataframe thead th {\n",
       "        text-align: right;\n",
       "    }\n",
       "</style>\n",
       "<table border=\"1\" class=\"dataframe\">\n",
       "  <thead>\n",
       "    <tr style=\"text-align: right;\">\n",
       "      <th></th>\n",
       "      <th>Model Architecture</th>\n",
       "      <th>Accuracy</th>\n",
       "    </tr>\n",
       "  </thead>\n",
       "  <tbody>\n",
       "    <tr>\n",
       "      <th>0</th>\n",
       "      <td>TreeCNN</td>\n",
       "      <td>50.20</td>\n",
       "    </tr>\n",
       "    <tr>\n",
       "      <th>1</th>\n",
       "      <td>ViT Tiny</td>\n",
       "      <td>28.82</td>\n",
       "    </tr>\n",
       "  </tbody>\n",
       "</table>\n",
       "</div>"
      ],
      "text/plain": [
       "  Model Architecture  Accuracy\n",
       "0            TreeCNN     50.20\n",
       "1           ViT Tiny     28.82"
      ]
     },
     "execution_count": 34,
     "metadata": {},
     "output_type": "execute_result"
    }
   ],
   "source": [
    "df = pd.DataFrame({ \"Model Architecture\": [\"TreeCNN\", \"ViT Tiny\"], \"Accuracy\": [50.20, 28.82] })\n",
    "df"
   ]
  },
  {
   "cell_type": "code",
   "execution_count": 38,
   "metadata": {},
   "outputs": [
    {
     "data": {
      "image/png": "[encoded data removed]",
      "text/plain": [
       "<Figure size 576x576 with 1 Axes>"
      ]
     },
     "metadata": {
      "needs_background": "light"
     },
     "output_type": "display_data"
    }
   ],
   "source": [
    "fig = plt.figure(figsize=(8,8))\n",
    "sns.barplot(x=\"Model Architecture\", y=\"Accuracy\", data=df)\n",
    "plt.ylabel(\"Top 1 %\")\n",
    "plt.title(\"K-NN Test Accuracy\")\n",
    "plt.savefig(\"knn3_preliminary_barchart.png\")\n",
    "#plt.show()\n",
    "##plt.bar([1,2], [50.20, 28.82])\n",
    "#plt.bar([1], [50.20], color=)\n",
    "#plt.bar([2], [28.82])"
   ]
  },
  {
   "cell_type": "code",
   "execution_count": null,
   "metadata": {},
   "outputs": [],
   "source": []
  }
 ],
 "metadata": {
  "colab": {
   "authorship_tag": "ABX9TyOAoY1GrguVjw3+jVPgtuBf",
   "collapsed_sections": [],
   "name": "K-NN.ipynb",
   "provenance": []
  },
  "kernelspec": {
   "display_name": "Python 3 (ipykernel)",
   "language": "python",
   "name": "python3"
  },
  "language_info": {
   "codemirror_mode": {
    "name": "ipython",
    "version": 3
   },
   "file_extension": ".py",
   "mimetype": "text/x-python",
   "name": "python",
   "nbconvert_exporter": "python",
   "pygments_lexer": "ipython3",
   "version": "3.9.12"
  }
 },
 "nbformat": 4,
 "nbformat_minor": 4
}
